{
  "nbformat": 4,
  "nbformat_minor": 0,
  "metadata": {
    "colab": {
      "provenance": []
    },
    "kernelspec": {
      "name": "python3",
      "display_name": "Python 3"
    },
    "language_info": {
      "name": "python"
    }
  },
  "cells": [
    {
      "cell_type": "markdown",
      "source": [
        "# Task for SQL DML session\n",
        "\n",
        "Load this dataset in your database and perform below given tasks.\n",
        "\n",
        "DataSet - https://docs.google.com/spreadsheets/d/e/2PACX-1vRa1wWwXmzxEvqITxj4OQTeLywlGTTsOTbhSRqKj2lPuGefjlci-DQhgLBPpgWXe8AAUu2WUBqY59X1/pub?gid=1030172542&single=true&output=csv\n",
        "\n",
        "Look for data description\n",
        "\n",
        "Kaggle - https://www.kaggle.com/datasets/thedevastator/insurance-claim-analysis-demographic-and-health?select=insurance_data.csv"
      ],
      "metadata": {
        "id": "O-kYKh3Z3HoZ"
      }
    },
    {
      "cell_type": "markdown",
      "source": [
        "### Perform the following queries\n",
        "\n",
        "1. Show records of 'male' patient from 'southwest' region.\n",
        "2. Show all records having bmi in range 30 to 45 both inclusive.\n",
        "3. Show minimum and maximum bloodpressure of diabetic patient who smokes. Make column names as MinBP and MaxBP respectively.\n",
        "4. Find no of unique patients who are not from southwest region.\n",
        "5. Total claim amount from male smoker.\n",
        "6. Select all records of south region.\n",
        "7. No of patient having normal blood pressure. Normal range[90-120]\n",
        "8. No of pateint belo 17 years of age having normal blood pressure as per below formula -\n",
        "    - BP normal range = 80+(age in years × 2) to 100 + (age in years × 2)\n",
        "\n",
        "    - Note: Formula taken just for practice, don't take in real sense.\n",
        "9. What is the average claim amount for non-smoking female patients who are diabetic?\n",
        "10. Write a SQL query to update the claim amount for the patient with PatientID = 1234 to 5000.\n",
        "11. Write a SQL query to delete all records for patients who are smokers and have no children.\n"
      ],
      "metadata": {
        "id": "HgeiRIpI3MjR"
      }
    },
    {
      "cell_type": "code",
      "source": [
        "USE sql_tasks;\n",
        "SELECT * FROM insurance;\n",
        "-- 1. Show records of 'male' patient from 'southwest' region.\n",
        "SELECT * FROM insurance\n",
        "WHERE gender = 'male' AND region = 'southwest';\n",
        "\n",
        "-- 2. Show all records having bmi in range 30 to 45 both inclusive.\n",
        "SELECT * FROM insurance\n",
        "WHERE bmi BETWEEN 30 AND 45;\n",
        "\n",
        "-- 3. Show minimum and maximum bloodpressure of diabetic patient who smokes.\n",
        "-- Make column names as MinBP and MaxBP respectively.\n",
        "SELECT MIN(bloodpressure) AS 'MinBP',\n",
        "MAX(bloodpressure) AS 'MaxBP'\n",
        "FROM insurance\n",
        "WHERE diabetic = 'Yes' AND smoker = 'Yes';\n",
        "\n",
        "-- 4. Find no of unique patients who are not from southwest region.\n",
        "SELECT COUNT(DISTINCT(PatientID)) FROM insurance\n",
        "WHERE region <> 'southwest';\n",
        "-- 5. Total claim amount from male smoker.\n",
        "SELECT SUM(claim)\n",
        "FROM insurance\n",
        "WHERE gender = 'male';\n",
        "-- 6. Select all records of south region.\n",
        "SELECT * FROM insurance\n",
        "WHERE region LIKE 'south%';\n",
        "\n",
        "-- 7. No of patient having normal blood pressure. Normal range[90-120]\n",
        "SELECT COUNT(*) FROM insurance\n",
        "WHERE bloodpressure BETWEEN 90 AND 120;\n",
        "\n",
        "-- 8. No of patient below 17 years of age having normal blood pressure as per below formula -\n",
        "-- BP normal range = 80+(age in years × 2) to 100 + (age in years × 2)\n",
        "-- Note: Formula taken just for practice, don't take in real sense.\n",
        "SELECT COUNT(*) FROM insurance\n",
        "WHERE age < 17\n",
        "AND (bloodpressure BETWEEN 80+(age * 2) AND 100 + (age * 2));\n",
        "\n",
        "-- 9. What is the average claim amount for non-smoking female patients\n",
        "-- who are diabetic?\n",
        "SELECT AVG(claim) FROM insurance\n",
        "WHERE gender = 'female'\n",
        "AND smoker = 'No';\n",
        "-- 10. Write a SQL query to update the claim amount for the patient\n",
        "-- with PatientID = 1234 to 5000.\n",
        "UPDATE insurance SET claim = 5000\n",
        "WHERE PatientID = 1234;\n",
        "\n",
        "SELECT * FROM insurance WHERE PatientID = 1234;\n",
        "\n",
        "-- 11. Write a SQL query to delete all records for patients\n",
        "-- who are smokers and have no children.\n",
        "DELETE FROM insurance\n",
        "WHERE smoker = 'Yes' AND children = 0\n",
        "\n"
      ],
      "metadata": {
        "id": "56rYZ7bf3IJh"
      },
      "execution_count": null,
      "outputs": []
    }
  ]
}
