{
  "nbformat": 4,
  "nbformat_minor": 0,
  "metadata": {
    "colab": {
      "provenance": []
    },
    "kernelspec": {
      "name": "python3",
      "display_name": "Python 3"
    },
    "language_info": {
      "name": "python"
    }
  },
  "cells": [
    {
      "cell_type": "markdown",
      "source": [
        "## Freedom Ranking for Different Countries\n",
        "\n",
        "You can get the dataset from [here](https://drive.google.com/drive/folders/1wr0J571rlfexEJ4-de6_tz1QvU-cJ0df?usp=share_link).\n",
        "\n",
        "Some feature details of the dataset:\n",
        "\n",
        "| Feature | Description |\n",
        "| :--: | :-- |\n",
        "| A | Electoral Process |\n",
        "| B | Political Pluralism and Participation |\n",
        "| C | Functioning of Government |\n",
        "| D | Freedom of Expression and Belief |\n",
        "| E | Associational and Organizational Rights |\n",
        "| F | Rule of Law |\n",
        "| G | Personal Autonomy and Individual Rights |\n",
        "| CL | Civil Liberties Scores |\n",
        "| Status | F=Free, PF=Partly Free, NF=Not Free |\n",
        "\n",
        "\n",
        "###`Q-1` Find out top 10 countries' which have maximum A and D values.\n",
        "\n",
        "\n",
        "###`Q-2` Find out highest CL value for 2020 for every region. Also sort the result in descending order. Also display the CL values in descending order."
      ],
      "metadata": {
        "id": "kbYXPYQ4pVyp"
      }
    },
    {
      "cell_type": "code",
      "source": [
        "SELECT * FROM campusx.country_ab AS t1\n",
        "LEFT JOIN  campusx.country_cd AS  t2\n",
        "ON t1.Country = t2.Country\n",
        "ORDER BY t1.A DESC, t2.D DESC\n",
        "LIMIT 1\n"
      ],
      "metadata": {
        "id": "-s_pPg_1pWyQ"
      },
      "execution_count": null,
      "outputs": []
    },
    {
      "cell_type": "code",
      "source": [
        "SELECT t2.Region,MAX(t1.CL) AS HighestCLValue,t2.Edition FROM campusx.country_cl AS t1\n",
        "INNER JOIN campusx.country_ab AS t2 ON t1.Country = t2.Country\n",
        "WHERE t2.Edition = 2020\n",
        "GROUP BY t2.Region\n",
        "ORDER BY HighestCLValue DESC;"
      ],
      "metadata": {
        "id": "h0eqPLiVfLZG"
      },
      "execution_count": null,
      "outputs": []
    },
    {
      "cell_type": "markdown",
      "source": [
        "## Dataset\n",
        "Data Link-> https://drive.google.com/drive/folders/1bGgNTDy5L_IodNcGHdB_SNCkUI5MUjmY?usp=share_link\n",
        "Four Tables:\n",
        "* Customer\n",
        "* Employee\n",
        "* Sales\n",
        "* Products\n",
        "\n",
        "###`Q-3` Find top-5 most sold products.\n",
        "\n",
        "### `Q-4:` Find sales man who sold most no of products.\n",
        "\n",
        "### `Q-5:` Sales man name who has most no of unique customer.\n",
        "\n",
        "###`Q-6:` Sales man who has generated most revenue. Show top 5.\n",
        "\n",
        "###`Q-7:` List all customers who have made more than 10 purchases.\n",
        "\n",
        "### `Q-8` : List all salespeople who have made sales to more than 5 customers.\n",
        "\n",
        "### `Q-9:` List all pairs of customers who have made purchases with the same salesperson.\n",
        "\n"
      ],
      "metadata": {
        "id": "62JBrjrmpcn-"
      }
    },
    {
      "cell_type": "code",
      "source": [
        "SELECT t1.ProductID,t1.`Name`,COUNT(t1.`Name`) AS Quantity FROM campusx.products t1\n",
        "INNER JOIN campusx.sales1 t2\n",
        "ON t1.ProductID=t2.ProductID\n",
        "GROUP BY t1.`Name`,t1.ProductID\n",
        "ORDER BY Quantity DESC\n",
        "LIMIT 5"
      ],
      "metadata": {
        "id": "VA90jn6Zpznc"
      },
      "execution_count": null,
      "outputs": []
    },
    {
      "cell_type": "code",
      "source": [
        "SELECT t2.EmployeeID,CONCAT(t2.FirstName, ' ', t2.MiddleInitial, ' ', t2.LastName) AS SalesPerson,\n",
        "COUNT(t1.ProductID) AS TotalProductsSold FROM campusx.sales1 t1\n",
        "INNER JOIN campusx.employees t2\n",
        "ON t1.SalesPersonID=t2.EmployeeID\n",
        "GROUP BY t2.EmployeeID,SalesPerson\n",
        "ORDER BY TotalProductsSold DESC\n",
        "LIMIT 1"
      ],
      "metadata": {
        "id": "-XimIUWJxaEi"
      },
      "execution_count": null,
      "outputs": []
    },
    {
      "cell_type": "code",
      "source": [
        "SELECT t2.EmployeeID,CONCAT(t2.FirstName, ' ', t2.MiddleInitial, ' ', t2.LastName) AS Salesperson,\n",
        "    COUNT(DISTINCT t1.CustomerID) AS UniqueCustomerCount\n",
        "FROM campusx.sales1 t1\n",
        "INNER JOIN campusx.employees t2 ON t1.SalesPersonID = t2.EmployeeID\n",
        "GROUP BY t2.EmployeeID, Salesperson\n",
        "ORDER BY UniqueCustomerCount DESC\n",
        "\n"
      ],
      "metadata": {
        "id": "xMRxw1oe5O1T"
      },
      "execution_count": null,
      "outputs": []
    },
    {
      "cell_type": "code",
      "source": [
        "SELECT CONCAT(FirstName, ' ',LastName) AS Salseperson,COUNT(t3.Name) AS Quantity,ROUND(SUM(t3.Price),2) AS Revenue FROM campusx.employees t1\n",
        "INNER JOIN campusx.sales1 t2\n",
        "ON t1.EmployeeID=t2.SalesPersonID\n",
        "INNER JOIN products t3\n",
        "ON t3.ProductID=t2.ProductID\n",
        "GROUP BY  Salseperson\n",
        "ORDER BY Revenue DESC\n",
        "LIMIT 5"
      ],
      "metadata": {
        "id": "CoTCDc1Iusu0"
      },
      "execution_count": null,
      "outputs": []
    },
    {
      "cell_type": "code",
      "source": [],
      "metadata": {
        "id": "wFyn0YDH6zsr"
      },
      "execution_count": null,
      "outputs": []
    },
    {
      "cell_type": "code",
      "source": [
        "SELECT c.CustomerID,\n",
        "       CONCAT(c.FirstName, ' ', c.LastName) AS CustomerName,\n",
        "       COUNT(s.SalesID) AS PurchaseCount\n",
        "FROM campusx.customers c\n",
        "INNER JOIN campusx.sales1 s ON c.CustomerID = s.CustomerID\n",
        "GROUP BY c.CustomerID, CustomerName\n",
        "HAVING PurchaseCount > 10\n",
        "ORDER BY PurchaseCount DESC;"
      ],
      "metadata": {
        "id": "58H5P-hF6zbZ"
      },
      "execution_count": null,
      "outputs": []
    },
    {
      "cell_type": "code",
      "source": [
        "SELECT e.EmployeeID,\n",
        "       CONCAT(e.FirstName, ' ', e.LastName) AS Salesperson,\n",
        "       COUNT(DISTINCT s.CustomerID) AS CustomerCount\n",
        "FROM campusx.employees e\n",
        "INNER JOIN campusx.sales1 s ON e.EmployeeID = s.SalesPersonID\n",
        "GROUP BY e.EmployeeID, Salesperson\n",
        "HAVING CustomerCount > 5\n",
        "ORDER BY CustomerCount DESC;\n"
      ],
      "metadata": {
        "id": "GTJLvEwaCKmj"
      },
      "execution_count": null,
      "outputs": []
    }
  ]
}