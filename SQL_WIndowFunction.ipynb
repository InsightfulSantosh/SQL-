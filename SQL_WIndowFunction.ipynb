{
  "nbformat": 4,
  "nbformat_minor": 0,
  "metadata": {
    "colab": {
      "provenance": []
    },
    "kernelspec": {
      "name": "python3",
      "display_name": "Python 3"
    },
    "language_info": {
      "name": "python"
    }
  },
  "cells": [
    {
      "cell_type": "code",
      "execution_count": null,
      "metadata": {
        "id": "Lx3OWsZxGHaH"
      },
      "outputs": [],
      "source": []
    },
    {
      "cell_type": "markdown",
      "source": [
        "**Note: Try to avoid *GROUP BY* clause to solve the problems**\n",
        "\n",
        "For the problems use the *Health Insurance Claim* dataset. You can get the details as well as the dataset from [here](https://www.kaggle.com/datasets/thedevastator/insurance-claim-analysis-demographic-and-health).\n",
        "\n",
        "### **Problem 1:** What are the top 5 patients who claimed the highest insurance amounts?\n",
        "\n",
        "### **Problem 2:** What is the average insurance claimed by patients based on the number of children they have?\n",
        "\n",
        "### **Problem 3:** What is the highest and lowest claimed amount by patients in each region?\n",
        "\n",
        "### **Problem 4:** What is the percentage of smokers in each age group?\n",
        "\n",
        "### **Problem 5:** What is the difference between the claimed amount of each patient and the first claimed amount of that patient?\n",
        "\n",
        "### **Problem 6:** For each patient, calculate the difference between their claimed amount and the average claimed amount of patients with the same number of children.\n",
        "\n",
        "### **Problem 7:** Show the patient with the highest BMI in each region and their respective rank.\n",
        "\n",
        "### **Problem 8:** Calculate the difference between the claimed amount of each patient and the claimed amount of the patient who has the highest BMI in their region.\n",
        "\n",
        "### **Problem 9:** For each patient, calculate the difference in claim amount between the patient and the patient with the highest claim amount among patients with the same bmi and smoker status, within the same region. Return the result in descending order difference.\n",
        "\n",
        "### **Problem 10:** For each patient, find the maximum BMI value among their next three records (ordered by age).\n",
        "\n",
        "### **Problem 11:** For each patient, find the rolling average of the last 2 claims.\n",
        "\n",
        "### **Problem 12:** Find the first claimed insurance value for male and female patients, within each region order the data by patient age in ascending order, and only include patients who are non-diabetic and have a bmi value between 25 and 30."
      ],
      "metadata": {
        "id": "rp-6tPAYGMYz"
      }
    },
    {
      "cell_type": "code",
      "source": [
        "select *, rank() over(order by claim) as rank1 from\n",
        "insurance\n",
        "limit 5"
      ],
      "metadata": {
        "id": "OHrwHkGWGNB_"
      },
      "execution_count": null,
      "outputs": []
    },
    {
      "cell_type": "code",
      "source": [
        "select children,avg_claim from (select children, AVG(claim) over(partition by children ) as avg_claim ,row_number() over(partition by children ) as row_no  from\n",
        "insurance)as t\n",
        "where t.row_no =1"
      ],
      "metadata": {
        "id": "fZWXKymyzvNB"
      },
      "execution_count": null,
      "outputs": []
    },
    {
      "cell_type": "code",
      "source": [
        "select region,claim,minim,maxm from (select *, first_value(claim) over(partition by region order by claim desc) as maxm ,\n",
        "last_value(claim) over(partition by region ROWS BETWEEN UNBOUNDED PRECEDING AND UNBOUNDED FOLLOWING  ) as minim,\n",
        "row_number() over(partition by region) as row_no\n",
        "from  insurance)as t\n",
        "where t.row_no =1"
      ],
      "metadata": {
        "id": "kru4p6CS6MlH"
      },
      "execution_count": null,
      "outputs": []
    },
    {
      "cell_type": "code",
      "source": [
        "select t1.age,round((number1/(number+ number1))*100,2) as smoker_percentage from (select smoker,age,number\n",
        "from (select *,count(age) over (partition by smoker,age order by age) as number,\n",
        "row_number() over (partition by smoker,age order by age) as row_n from insurance) as t\n",
        "where row_n =1 and smoker= \"No\"\n",
        "group by smoker,age) as t1\n",
        "join (select smoker,age,number1\n",
        "from (select *,count(age) over (partition by smoker,age order by age) as number1,\n",
        "row_number() over (partition by smoker,age order by age) as row_n from insurance) as t\n",
        "where row_n =1 and smoker= \"Yes\"\n",
        "group by smoker,age) as t2\n",
        "on t1.age=t2.age"
      ],
      "metadata": {
        "id": "8nOQFLBoFueA"
      },
      "execution_count": null,
      "outputs": []
    },
    {
      "cell_type": "code",
      "source": [
        "select *,\n",
        "claim - first_value(claim) over() as diffrence\n",
        "from  insurance"
      ],
      "metadata": {
        "id": "tfyD8FCgNhon"
      },
      "execution_count": null,
      "outputs": []
    },
    {
      "cell_type": "code",
      "source": [
        "select *,\n",
        "claim-avg(claim) over(partition by children)  as diffrence\n",
        "from  insurance"
      ],
      "metadata": {
        "id": "H7KBjZckOTQh"
      },
      "execution_count": null,
      "outputs": []
    },
    {
      "cell_type": "code",
      "source": [
        "select * from (select *,rank() over(partition by region order by bmi desc) as rnk\n",
        "\t from  insurance) as t\n",
        "     where t.rnk = 1"
      ],
      "metadata": {
        "id": "SRreN0q_PiNI"
      },
      "execution_count": null,
      "outputs": []
    },
    {
      "cell_type": "code",
      "source": [
        "select *,\n",
        "claim-first_value(claim) over(partition by region order by bmi desc ROWS BETWEEN UNBOUNDED PRECEDING AND UNBOUNDED FOLLOWING) as\"diff_claim\"\n",
        "from  insurance"
      ],
      "metadata": {
        "id": "yWumKypMTept"
      },
      "execution_count": null,
      "outputs": []
    },
    {
      "cell_type": "code",
      "source": [
        "select *,\n",
        "first_value(claim) over(partition by region,smoker order by  claim  desc)-claim as\"diff\"\n",
        "from  insurance\n",
        "order by diff desc"
      ],
      "metadata": {
        "id": "lEdjMrb3VNc2"
      },
      "execution_count": null,
      "outputs": []
    },
    {
      "cell_type": "code",
      "source": [
        "SELECT *,\n",
        "max(bmi) OVER(ORDER BY age ROWS BETWEEN 1 following AND 3 FOLLOWING)\n",
        "FROM insurance"
      ],
      "metadata": {
        "id": "BPZz2EJ3ZlJH"
      },
      "execution_count": null,
      "outputs": []
    },
    {
      "cell_type": "code",
      "source": [
        "SELECT *,\n",
        "avg(claim) OVER(ROWS BETWEEN 2 PRECEDING AND 1 PRECEDING)\n",
        "FROM insurance"
      ],
      "metadata": {
        "id": "9H-HBOhIgAGD"
      },
      "execution_count": null,
      "outputs": []
    },
    {
      "cell_type": "code",
      "source": [
        "select region,gender,1st from (SELECT *,\n",
        "first_value(claim) OVER(partition by gender,region order by age asc) as \"1st\",\n",
        "row_number() OVER(partition by gender,region order by age asc) as rw\n",
        "FROM insurance\n",
        "where (bmi between 25 and 30) and diabetic=\"No\") as t\n",
        "where t.rw=1\n",
        "order by region;"
      ],
      "metadata": {
        "id": "GWBjW-BOjr-j"
      },
      "execution_count": null,
      "outputs": []
    },
    {
      "cell_type": "markdown",
      "source": [],
      "metadata": {
        "id": "ykcQQHQlGvFs"
      }
    },
    {
      "cell_type": "markdown",
      "source": [],
      "metadata": {
        "id": "WgSE75JGGy2Q"
      }
    },
    {
      "cell_type": "markdown",
      "source": [],
      "metadata": {
        "id": "eZCGiXEFG3pc"
      }
    }
  ]
}