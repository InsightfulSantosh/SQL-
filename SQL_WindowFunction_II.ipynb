{
  "nbformat": 4,
  "nbformat_minor": 0,
  "metadata": {
    "colab": {
      "provenance": []
    },
    "kernelspec": {
      "name": "python3",
      "display_name": "Python 3"
    },
    "language_info": {
      "name": "python"
    }
  },
  "cells": [
    {
      "cell_type": "code",
      "execution_count": null,
      "metadata": {
        "id": "s-W3ohs8p3Oz"
      },
      "outputs": [],
      "source": []
    },
    {
      "cell_type": "markdown",
      "source": [
        "## Problem 1-4 : NorthWinddatset https://relational.fit.cvut.cz/dataset/Northwind\n",
        "\n",
        "How to download the dataset\n",
        "\n",
        "To download the dataset you need to create connection in your mysql workbench\n",
        "\n",
        "The datasets are publicly available directly from MariaDB database.\n",
        "\n",
        "* Open your favourite MariaDB client (MySQL Workbench)\n",
        "Use following credentials:\n",
        "```\n",
        "    hostname: relational.fit.cvut.cz\n",
        "    port: 3306\n",
        "    username: guest\n",
        "    password: relational\n",
        "```\n",
        "Drive link: https://drive.google.com/drive/folders/1FMi6g1KDHbn17ikJSi7bE9-THywlxhdu?usp=sharing"
      ],
      "metadata": {
        "id": "KpqcB6Vhp9qf"
      }
    },
    {
      "cell_type": "markdown",
      "source": [
        "###`Q-1`: Rank Employee in terms of revenue generation. Show employee id, first name, revenue, and rank\n",
        "\n",
        "\n",
        "###`Q-2`: Show All products cumulative sum of units sold each month.\n",
        "\n",
        "\n",
        "###`Q-3`: Show Percentage of total revenue by each suppliers\n",
        "\n",
        "\n",
        "\n",
        "###`Q-4:` Show Percentage of total orders by each suppliers\n",
        "\n",
        "\n",
        "\n",
        "### `Q-5`:Show All Products Year Wise report of totalQuantity sold, percentage change from last year.\n",
        "\n",
        "\n",
        "\n"
      ],
      "metadata": {
        "id": "FOEHlsgeqAGT"
      }
    },
    {
      "cell_type": "code",
      "source": [
        "  select e.EmployeeID, e.FirstName , sum(od.UnitPrice * od.Quantity) as revenue,\n",
        "  rank() over( order by revenue desc) as EmpRank\n",
        "  from nw_orders o join nw_order_details od on od.OrderID = o.OrderID\n",
        "  join nw_employees e on e.EmployeeID = o.EmployeeID\n",
        "  group by e.EmployeeID, e.FirstName\n",
        "  order by EmpRank\n"
      ],
      "metadata": {
        "id": "luDFQg-al2Ql"
      },
      "execution_count": null,
      "outputs": []
    },
    {
      "cell_type": "code",
      "source": [
        "select monthname(OrderDate) as month_name,year(OrderDate) as year,sum(od.Quantity),\n",
        "sum(sum(od.Quantity)) over(order by year,month_name ROWS BETWEEN UNBOUNDED PRECEDING AND CURRENT ROW )\n",
        "from nw_orders o join nw_order_details od on od.OrderID = o.OrderID\n",
        "join nw_employees e on e.EmployeeID = o.EmployeeID\n",
        "group by year,month_name"
      ],
      "metadata": {
        "id": "tjV8F-hFrcUi"
      },
      "execution_count": null,
      "outputs": []
    },
    {
      "cell_type": "code",
      "source": [
        "select s.SupplierId,s.CompanyName,sum(od.UnitPrice*od.Quantity) as Revenue, sum(od.UnitPrice*od.Quantity) /\n",
        "sum(sum(od.UnitPrice*od.Quantity)) over() * 100 as PercentTotalRevenue\n",
        "from nw_suppliers s join nw_products p on p.SupplierId=s.SupplierID\n",
        "join nw_order_details od on p.ProductID=od.ProductID\n",
        "group by s.SupplierId, s.CompanyName\n",
        "order by PercentTotalRevenue desc"
      ],
      "metadata": {
        "id": "ztRYKsYN2I5U"
      },
      "execution_count": null,
      "outputs": []
    },
    {
      "cell_type": "code",
      "source": [
        "select s.SupplierId,s.CompanyName,sum(distinct od.OrderID) as total, sum(distinct od.OrderID) /\n",
        "sum(sum(distinct od.OrderID)) over() * 100 as PercentTotalorder\n",
        "from nw_suppliers s join nw_products p on p.SupplierId=s.SupplierID\n",
        "join nw_order_details od on p.ProductID=od.ProductID\n",
        "group by s.SupplierId, s.CompanyName\n",
        "order by PercentTotalorder desc"
      ],
      "metadata": {
        "id": "Uj-X52yb3EPD"
      },
      "execution_count": null,
      "outputs": []
    },
    {
      "cell_type": "code",
      "source": [
        "select *,100 *(total - lag(total) over(partition  by ProductId order by ProductId, Year))/lag(total)\n",
        "over(partition  by ProductId order by ProductId, Year) as PercentageChange\n",
        "from(select year(OrderDate) as year, od.ProductID,sum(od.Quantity) as total\n",
        "from nw_orders o join nw_order_details od on od.OrderID = o.OrderID\n",
        "join nw_employees e on e.EmployeeID = o.EmployeeID\n",
        "group by year, od.ProductID\n",
        "order by od.ProductID,year) as t"
      ],
      "metadata": {
        "id": "TOgo3pbdl2Kb"
      },
      "execution_count": null,
      "outputs": []
    },
    {
      "cell_type": "markdown",
      "source": [
        "## Problem 6 - 15\n",
        "\n",
        "For the next problems, you can get the dataset as well as the details [here](https://www.kaggle.com/datasets/thedevastator/drug-performance-evaluation?select=Drug_clean.csv) (Use the *cleaned* csv file)."
      ],
      "metadata": {
        "id": "nWELr3W3qN9Q"
      }
    },
    {
      "cell_type": "markdown",
      "source": [
        "### **`Problem-6:`** For each condition, what is the average satisfaction level of drugs that are \"On Label\" vs \"Off Label\"?\n",
        "\n",
        "\n",
        "### **`Problem-7:`** For each drug type (RX, OTC, RX/OTC), what is the average ease of use and satisfaction level of drugs with a price above the median for their type?\n",
        "\n",
        "\n",
        "### **`Problem 8:`** What is the cumulative distribution of EaseOfUse ratings for each drug type (RX, OTC, RX/OTC)? Show the results in descending order by drug type and cumulative distribution. (Use the built-in method and the manual method by calculating on your own. For the manual method, use the \"ROWS BETWEEN UNBOUNDED PRECEDING AND CURRENT ROW\" and see if you get the same results as the built-in method.)\n",
        "\n",
        "\n",
        "### **`Problem 9:`** What is the median satisfaction level for each medical condition? Show the results in descending order by median satisfaction level. (Don't repeat the same rows of your result.)\n",
        "\n",
        "\n",
        "\n",
        "### **`Problem 10:`** What is the running average of the price of drugs for each medical condition? Show the results in ascending order by medical condition and drug name.\n",
        "\n",
        "\n",
        "\n",
        "### **`Problem 11:`** What is the percentage change in the number of reviews for each drug between the previous row and the current row? Show the results in descending order by percentage change.\n",
        "\n",
        "\n",
        "\n",
        "### **`Problem 12:`** What is the percentage of total satisfaction level for each drug type (RX, OTC, RX/OTC)? Show the results in descending order by drug type and percentage of total satisfaction.\n",
        "\n",
        "\n",
        "\n",
        "### **`Problem 13:`** What is the cumulative sum of effective ratings for each medical condition and drug form combination? Show the results in ascending order by medical condition, drug form and the name of the drug.\n",
        "\n",
        "\n",
        "\n",
        "### **`Problem-14:`** What is the rank of the average ease of use for each drug type (RX, OTC, RX/OTC)? Show the results in descending order by rank and drug type.\n",
        "\n",
        "\n",
        "\n",
        "### **`Problem-15:`** For each condition, what is the average effectiveness of the top 3 most reviewed drugs?"
      ],
      "metadata": {
        "id": "wtiSQiILqQtd"
      }
    },
    {
      "cell_type": "code",
      "source": [
        "select * from (SELECT t.Condition,Indication,Satisfaction,\n",
        "              round(avg(Satisfaction) over(partition by t.Condition,Indication ),2) as avg_satis,\n",
        "rank() over(partition by t.Condition,Indication order by Satisfaction) as rnk\n",
        "FROM phpmyadmin.drug as t) as n\n",
        "where n.rnk=1"
      ],
      "metadata": {
        "id": "AZH1zzayp_Tv"
      },
      "execution_count": null,
      "outputs": []
    },
    {
      "cell_type": "code",
      "source": [
        "select * from  (SELECT Type,\n",
        "        AVG(EaseOfUse) OVER(PARTITION BY Type) AS avg_ease_of_use,\n",
        "        AVG(Satisfaction) OVER(PARTITION BY Type) AS avg_satisfaction\n",
        " from (select *, PERCENTILE_CONT(0.5) WITHIN GROUP (\n",
        "                ORDER BY Price\n",
        "            ) OVER (PARTITION BY Type) AS median_price from drug\n",
        "where Type in ('RX', 'OTC', 'RX/OTC') ) as t) as n\n",
        "group by n.Type"
      ],
      "metadata": {
        "id": "oW-6qXheK6vX"
      },
      "execution_count": null,
      "outputs": []
    },
    {
      "cell_type": "code",
      "source": [
        "SELECT Type, EaseOfUse,\n",
        "       COUNT(*) OVER (\n",
        "            PARTITION BY Type\n",
        "            ORDER BY EaseOfUse\n",
        "            ROWS BETWEEN UNBOUNDED PRECEDING AND CURRENT ROW\n",
        "        ) * 1.0 / COUNT(*) OVER (PARTITION BY Type ) AS cumulative_dist,\n",
        "        cume_dist() over(\n",
        "            partition by Type\n",
        "            order by EaseOfUse\n",
        "        ) as 'percentile_score'\n",
        "FROM drug\n",
        "WHERE Type IN ('RX', 'OTC', 'RX/OTC')\n",
        "ORDER BY Type, cumulative_dist DESC;"
      ],
      "metadata": {
        "id": "sCp18zpMP1tQ"
      },
      "execution_count": null,
      "outputs": []
    },
    {
      "cell_type": "code",
      "source": [
        "select * from (select t.Condition, percentile_cont(.5) within group (order by Satisfaction) over(partition by t.Condition) as median_sat from drug as t) as n\n",
        "group by n.Condition\n",
        "order by n.median_sat desc;"
      ],
      "metadata": {
        "id": "oWWAczGTR_xP"
      },
      "execution_count": null,
      "outputs": []
    },
    {
      "cell_type": "code",
      "source": [
        "select t.condition,t.drug,round(price,2) as price,\n",
        "round(avg(Price)over(partition by t.Condition order by t.drug rows between unbounded preceding and current row ),2) as running_avg_price\n",
        "from drug as t\n",
        "ORDER BY t.Condition ASC, t.Drug ASC;"
      ],
      "metadata": {
        "id": "taR-GQIAVs63"
      },
      "execution_count": null,
      "outputs": []
    },
    {
      "cell_type": "code",
      "source": [
        "SELECT drug.Condition, drug.Drug, drug.Reviews,\n",
        "    (drug.Reviews - LAG(drug.Reviews) OVER (\n",
        "        PARTITION BY  drug.Drug\n",
        "        ORDER BY drug.Reviews DESC)\n",
        "    ) * 100.0 / LAG(drug.Reviews) OVER (\n",
        "        PARTITION BY  drug.Drug\n",
        "        ORDER BY drug.Reviews DESC\n",
        "    ) AS pct_change\n",
        "FROM drug\n",
        "ORDER BY pct_change DESC"
      ],
      "metadata": {
        "id": "WjQAxSj-b42V"
      },
      "execution_count": null,
      "outputs": []
    },
    {
      "cell_type": "code",
      "source": [
        "with temp as (select t.Type,t.Satisfaction,\n",
        "round((sum(t.Satisfaction) over (partition by t.Type)) /(sum(t.Satisfaction) over ())*100,2) as percentage\n",
        " from drug as t\n",
        "where Type in ('RX', 'OTC', 'RX/OTC') )\n",
        "select * from temp\n",
        "group by Type\n",
        "order by  percentage asc,Type asc"
      ],
      "metadata": {
        "id": "-mBkCVc4ehew"
      },
      "execution_count": null,
      "outputs": []
    },
    {
      "cell_type": "code",
      "source": [
        "select t.Condition,t.Form, t.Drug, t.Effective, sum(t.Effective) OVER(partition by T.Condition, t.Drug order by t.Drug\n",
        "        ROWS BETWEEN UNBOUNDED PRECEDING AND CURRENT ROW\n",
        "    ) AS cumulative_sum_effective\n",
        "from drug as t\n",
        "order by\n",
        "    t.Condition ASC,\n",
        "    t.Form ASC,\n",
        "    t.Drug ASC"
      ],
      "metadata": {
        "id": "YljNnz6ChA0_"
      },
      "execution_count": null,
      "outputs": []
    },
    {
      "cell_type": "code",
      "source": [
        "with temp as (select t.Type, t.EaseOfUse,\n",
        "avg(t.EaseOfUse) over(partition by t.Type  rows between unbounded preceding and unbounded following) as avgr\n",
        "from drug as t\n",
        "where Type in ('RX', 'OTC', 'RX/OTC'))\n",
        " select *, dense_rank() over(order by avgr) as rnk   from  temp\n",
        "group by Type\n",
        "order by rnk asc"
      ],
      "metadata": {
        "id": "LAQN7sZmmWRv"
      },
      "execution_count": null,
      "outputs": []
    },
    {
      "cell_type": "code",
      "source": [
        "with temp as (select t.Condition,t.drug,round(t.Reviews,2) as Reviews,round(t.Effective,2)as Effective,\n",
        "dense_rank()over(partition by t.Condition order by t.Reviews desc )  as rnk,\n",
        "round(avg(t.Effective) over (partition by t.Condition, t.drug rows between unbounded preceding and unbounded following),2) as avg_effect\n",
        "from drug as t)\n",
        "select * from (select * from temp as n\n",
        "where n.rnk<4) as m"
      ],
      "metadata": {
        "id": "xsLDdnSlpexm"
      },
      "execution_count": null,
      "outputs": []
    }
  ]
}